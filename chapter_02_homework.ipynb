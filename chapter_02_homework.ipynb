{
  "nbformat": 4,
  "nbformat_minor": 0,
  "metadata": {
    "colab": {
      "name": "chapter-02-homework.ipynb",
      "provenance": [],
      "collapsed_sections": [],
      "authorship_tag": "ABX9TyMaKYVJsI+2ztDny71ceUPm",
      "include_colab_link": true
    },
    "kernelspec": {
      "name": "python3",
      "display_name": "Python 3"
    },
    "language_info": {
      "name": "python"
    }
  },
  "cells": [
    {
      "cell_type": "markdown",
      "metadata": {
        "id": "view-in-github",
        "colab_type": "text"
      },
      "source": [
        "<a href=\"https://colab.research.google.com/github/markpro-code/ml-homework/blob/main/chapter_02_homework.ipynb\" target=\"_parent\"><img src=\"https://colab.research.google.com/assets/colab-badge.svg\" alt=\"Open In Colab\"/></a>"
      ]
    },
    {
      "cell_type": "markdown",
      "metadata": {
        "id": "0cI-chEHzog3"
      },
      "source": [
        "# 第二章作业"
      ]
    },
    {
      "cell_type": "markdown",
      "metadata": {
        "id": "eVav0NQNzzgG"
      },
      "source": [
        "学生姓名: 毛军\n",
        "\n",
        "以下是代码实现:"
      ]
    },
    {
      "cell_type": "code",
      "metadata": {
        "colab": {
          "base_uri": "https://localhost:8080/"
        },
        "id": "SuPOcL_N1axc",
        "outputId": "0cb1f39d-610c-4740-d55c-825fcd0b38dc"
      },
      "source": [
        "%load_ext Cython"
      ],
      "execution_count": 16,
      "outputs": [
        {
          "output_type": "stream",
          "text": [
            "The Cython extension is already loaded. To reload it, use:\n",
            "  %reload_ext Cython\n"
          ],
          "name": "stdout"
        }
      ]
    },
    {
      "cell_type": "code",
      "metadata": {
        "id": "3MRo9CBvzKT_"
      },
      "source": [
        "%%cython\n",
        "\n",
        "import numpy as np\n",
        "cimport numpy as np\n",
        "import pandas as pd\n",
        "\n",
        "# 数据初始化\n",
        "dataSize = 5000000\n",
        "y = np.random.randint(2, size=(dataSize, 1))\n",
        "x = np.random.randint(10, size=(dataSize, 1))\n",
        "testData = pd.DataFrame(np.concatenate([y, x], axis=1), columns=['y', 'x'])\n",
        "\n",
        "# 课上的例子\n",
        "# =================================================================\n",
        "cpdef target_mean_example(data, y_name, x_name):\n",
        "    cdef long nrow = data.shape[0]\n",
        "    cdef np.ndarray[double] result = np.asfortranarray(np.zeros(nrow), dtype=np.float64)\n",
        "    cdef np.ndarray[double] y = np.asfortranarray(data[y_name], dtype=np.float64)\n",
        "    cdef np.ndarray[double] x = np.asfortranarray(data[x_name], dtype=np.float64)\n",
        "\n",
        "    target_mean_example_impl(result, y, x, nrow)\n",
        "    return result\n",
        "\n",
        "cdef void target_mean_example_impl(double[:] result, double[:] y, double[:] x, const long nrow):\n",
        "    cdef dict value_dict = dict()\n",
        "    cdef dict count_dict = dict()\n",
        "\n",
        "    cdef long i\n",
        "    for i in range(nrow):\n",
        "        if x[i] not in value_dict.keys():\n",
        "            value_dict[x[i]] = y[i]\n",
        "            count_dict[x[i]] = 1\n",
        "        else:\n",
        "            value_dict[x[i]] += y[i]\n",
        "            count_dict[x[i]] += 1\n",
        "\n",
        "    i=0\n",
        "    for i in range(nrow):\n",
        "        result[i] = (value_dict[x[i]] - y[i])/(count_dict[x[i]]-1)\n",
        "\n",
        "# 我的代码实现\n",
        "# =================================================================\n",
        "cpdef target_mean_homework(data, y_name, x_name):\n",
        "    cdef long nrow = data.shape[0]\n",
        "    cdef np.ndarray[double] result = np.asfortranarray(np.zeros(nrow), dtype=np.float64)\n",
        "    cdef np.ndarray[int] y = np.asfortranarray(data[y_name], dtype=np.int32)\n",
        "    cdef np.ndarray[int] x = np.asfortranarray(data[x_name], dtype=np.int32)\n",
        "\n",
        "    target_mean_homework_impl(result, y, x, nrow)\n",
        "    return result\n",
        "\n",
        "cdef void target_mean_homework_impl(double[:] result, int[:] y, int[:] x, const long nrow):\n",
        "    cdef dict value_dict = dict()\n",
        "    cdef dict count_dict = dict()\n",
        "    cdef long i = 0\n",
        "    cdef int key\n",
        "\n",
        "    while i < nrow:\n",
        "        key = x[i]\n",
        "        if key not in value_dict.keys():\n",
        "            value_dict[key] = y[i]\n",
        "            count_dict[key] = 1\n",
        "        else:\n",
        "            value_dict[key] += y[i]\n",
        "            count_dict[key] += 1\n",
        "        i += 1\n",
        "\n",
        "    i=0\n",
        "    while i < nrow:\n",
        "        result[i] = (value_dict[x[i]] - y[i])/(count_dict[x[i]]-1)\n",
        "        i += 1"
      ],
      "execution_count": 17,
      "outputs": []
    },
    {
      "cell_type": "code",
      "metadata": {
        "colab": {
          "base_uri": "https://localhost:8080/"
        },
        "id": "ZTmKJZNO1AVX",
        "outputId": "4b948c72-a22a-4843-e776-e01e685003b3"
      },
      "source": [
        "import time\n",
        "\n",
        "print(\"测试数据量: \" + str(dataSize))\n",
        "\n",
        "start_time = time.time()\n",
        "result = target_mean_example(testData, 'y', 'x')\n",
        "print(\"--- 课上例子执行时间: %s seconds ---\" % (time.time() - start_time))\n",
        "print(result)\n",
        "\n",
        "start_time = time.time()\n",
        "result = target_mean_homework(testData, 'y', 'x')\n",
        "print(\"--- 我的代码实现执行时间: %s seconds ---\" % (time.time() - start_time))\n",
        "print(result)"
      ],
      "execution_count": 18,
      "outputs": [
        {
          "output_type": "stream",
          "text": [
            "测试数据量: 5000000\n",
            "--- 课上例子执行时间: 2.577223539352417 seconds ---\n",
            "[0.50014923 0.50028786 0.50028786 ... 0.50067612 0.50084281 0.49967488]\n",
            "--- 我的代码实现执行时间: 1.3680131435394287 seconds ---\n",
            "[0.50014923 0.50028786 0.50028786 ... 0.50067612 0.50084281 0.49967488]\n"
          ],
          "name": "stdout"
        }
      ]
    },
    {
      "cell_type": "markdown",
      "metadata": {
        "id": "HNO4bBh65gpA"
      },
      "source": [
        "# 总结\n",
        "\n",
        "此次主要优化点:\n",
        "1. 将之前的 for loop 改成了 while loop, 省去了在 range 中遍历的过程 (个人猜测 python 在遍历 range 的时候有性能损失).\n",
        "1. 将不必要 double 类型定义换成 int (也许分配更少的内存空间会快点)\n",
        "\n",
        "优化结果: 500万条测试数据, 执行时间约 1.3s, 老师的例子执行时间约 2.5s, ***效率提升了约 1 倍***.\n"
      ]
    }
  ]
}